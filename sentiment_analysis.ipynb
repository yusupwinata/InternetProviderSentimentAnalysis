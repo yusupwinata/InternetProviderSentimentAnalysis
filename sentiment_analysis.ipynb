{
 "cells": [
  {
   "cell_type": "markdown",
   "id": "2293e1c8-bf48-4905-9658-1c0574d24e26",
   "metadata": {},
   "source": [
    "# Case 1: Task 1 - Sentiment Analysis Modeling"
   ]
  },
  {
   "cell_type": "code",
   "execution_count": 1,
   "id": "e129f3af-ad7d-4eb9-85db-4e51ddc8ca4c",
   "metadata": {},
   "outputs": [],
   "source": [
    "# Import required libraries\n",
    "import os\n",
    "import re\n",
    "import nltk\n",
    "import pandas as pd\n",
    "from typing import Literal\n",
    "from joblib import dump, load\n",
    "from sklearn import preprocessing\n",
    "from sklearn.model_selection import train_test_split, GridSearchCV, RandomizedSearchCV\n",
    "from sklearn.feature_extraction.text import TfidfVectorizer\n",
    "from sklearn.pipeline import Pipeline\n",
    "from sklearn.metrics import classification_report, accuracy_score, precision_score, recall_score\n",
    "\n",
    "# Models\n",
    "from xgboost import XGBClassifier\n",
    "from lightgbm import LGBMClassifier\n",
    "from catboost import CatBoostClassifier\n",
    "from sklearn.svm import LinearSVC\n",
    "from sklearn.linear_model import LogisticRegression, RidgeClassifier\n",
    "from sklearn.ensemble import RandomForestClassifier, ExtraTreesClassifier\n",
    "from sklearn.naive_bayes import MultinomialNB, ComplementNB\n",
    "\n",
    "# Module\n",
    "from tweet import Tweet"
   ]
  },
  {
   "cell_type": "code",
   "execution_count": 2,
   "id": "77111d1c-2685-443f-8fba-1eb3046ad5c0",
   "metadata": {},
   "outputs": [],
   "source": [
    "# Paths\n",
    "ABSOLUTE_PATH = os.path.abspath(os.getcwd())\n",
    "data_dir = os.path.join(ABSOLUTE_PATH, \"dataset\")\n",
    "models_dir = os.path.join(ABSOLUTE_PATH, \"models\")\n",
    "\n",
    "data_sentiment_path = os.path.join(data_dir, \"dataset_tweet_sentiment_cellular_service_provider.csv\")\n",
    "label_encoder_path = os.path.join(models_dir, \"label_encoder.joblib\")\n",
    "vectorizer_path = os.path.join(models_dir, \"vectorizer.joblib\")\n",
    "final_model_path = os.path.join(models_dir, \"final_model.joblib\")"
   ]
  },
  {
   "cell_type": "code",
   "execution_count": 3,
   "id": "c33d4906-0e92-4453-9338-676bb677bce8",
   "metadata": {},
   "outputs": [
    {
     "data": {
      "text/html": [
       "<div>\n",
       "<style scoped>\n",
       "    .dataframe tbody tr th:only-of-type {\n",
       "        vertical-align: middle;\n",
       "    }\n",
       "\n",
       "    .dataframe tbody tr th {\n",
       "        vertical-align: top;\n",
       "    }\n",
       "\n",
       "    .dataframe thead th {\n",
       "        text-align: right;\n",
       "    }\n",
       "</style>\n",
       "<table border=\"1\" class=\"dataframe\">\n",
       "  <thead>\n",
       "    <tr style=\"text-align: right;\">\n",
       "      <th></th>\n",
       "      <th>Sentiment</th>\n",
       "      <th>Text Tweet</th>\n",
       "    </tr>\n",
       "  </thead>\n",
       "  <tbody>\n",
       "    <tr>\n",
       "      <th>0</th>\n",
       "      <td>positive</td>\n",
       "      <td>&lt;USER_MENTION&gt; #BOIKOT_&lt;PROVIDER_NAME&gt; Gunakan...</td>\n",
       "    </tr>\n",
       "    <tr>\n",
       "      <th>1</th>\n",
       "      <td>positive</td>\n",
       "      <td>Saktinya balik lagi, alhamdulillah :v &lt;PROVIDE...</td>\n",
       "    </tr>\n",
       "    <tr>\n",
       "      <th>2</th>\n",
       "      <td>negative</td>\n",
       "      <td>Selamat pagi &lt;PROVIDER_NAME&gt;  bisa bantu kenap...</td>\n",
       "    </tr>\n",
       "    <tr>\n",
       "      <th>3</th>\n",
       "      <td>negative</td>\n",
       "      <td>Dear &lt;PROVIDER_NAME&gt; akhir2 ini jaringan data ...</td>\n",
       "    </tr>\n",
       "    <tr>\n",
       "      <th>4</th>\n",
       "      <td>negative</td>\n",
       "      <td>Selamat malam PENDUSTA &lt;PROVIDER_NAME&gt;</td>\n",
       "    </tr>\n",
       "  </tbody>\n",
       "</table>\n",
       "</div>"
      ],
      "text/plain": [
       "  Sentiment                                         Text Tweet\n",
       "0  positive  <USER_MENTION> #BOIKOT_<PROVIDER_NAME> Gunakan...\n",
       "1  positive  Saktinya balik lagi, alhamdulillah :v <PROVIDE...\n",
       "2  negative  Selamat pagi <PROVIDER_NAME>  bisa bantu kenap...\n",
       "3  negative  Dear <PROVIDER_NAME> akhir2 ini jaringan data ...\n",
       "4  negative            Selamat malam PENDUSTA <PROVIDER_NAME> "
      ]
     },
     "execution_count": 3,
     "metadata": {},
     "output_type": "execute_result"
    }
   ],
   "source": [
    "# Load dataset\n",
    "df = pd.read_csv(data_sentiment_path)\n",
    "\n",
    "# Drop duplicate tweets\n",
    "tweets_df = df[['Sentiment', 'Text Tweet']]\n",
    "tweets_df = tweets_df.drop_duplicates()\n",
    "tweets_df.head(5)"
   ]
  },
  {
   "cell_type": "markdown",
   "id": "509f6953-10e8-45c1-8914-bd0fdfc88319",
   "metadata": {},
   "source": [
    "# Data Preprocessing"
   ]
  },
  {
   "cell_type": "code",
   "execution_count": 4,
   "id": "db54054a-da11-49f3-b280-3337a3450817",
   "metadata": {},
   "outputs": [
    {
     "data": {
      "text/html": [
       "<div>\n",
       "<style scoped>\n",
       "    .dataframe tbody tr th:only-of-type {\n",
       "        vertical-align: middle;\n",
       "    }\n",
       "\n",
       "    .dataframe tbody tr th {\n",
       "        vertical-align: top;\n",
       "    }\n",
       "\n",
       "    .dataframe thead th {\n",
       "        text-align: right;\n",
       "    }\n",
       "</style>\n",
       "<table border=\"1\" class=\"dataframe\">\n",
       "  <thead>\n",
       "    <tr style=\"text-align: right;\">\n",
       "      <th></th>\n",
       "      <th>Sentiment</th>\n",
       "      <th>Text Tweet</th>\n",
       "      <th>Clean_Tweet</th>\n",
       "    </tr>\n",
       "  </thead>\n",
       "  <tbody>\n",
       "    <tr>\n",
       "      <th>0</th>\n",
       "      <td>positive</td>\n",
       "      <td>&lt;USER_MENTION&gt; #BOIKOT_&lt;PROVIDER_NAME&gt; Gunakan...</td>\n",
       "      <td>#boikot produk bangsa</td>\n",
       "    </tr>\n",
       "    <tr>\n",
       "      <th>1</th>\n",
       "      <td>positive</td>\n",
       "      <td>Saktinya balik lagi, alhamdulillah :v &lt;PROVIDE...</td>\n",
       "      <td>sakti alhamdulillah cengang</td>\n",
       "    </tr>\n",
       "    <tr>\n",
       "      <th>2</th>\n",
       "      <td>negative</td>\n",
       "      <td>Selamat pagi &lt;PROVIDER_NAME&gt;  bisa bantu kenap...</td>\n",
       "      <td>selamat pagi bisa bantu kamar sinyal 4g hilang...</td>\n",
       "    </tr>\n",
       "    <tr>\n",
       "      <th>3</th>\n",
       "      <td>negative</td>\n",
       "      <td>Dear &lt;PROVIDER_NAME&gt; akhir2 ini jaringan data ...</td>\n",
       "      <td>dear jaring data lambat h+</td>\n",
       "    </tr>\n",
       "    <tr>\n",
       "      <th>4</th>\n",
       "      <td>negative</td>\n",
       "      <td>Selamat malam PENDUSTA &lt;PROVIDER_NAME&gt;</td>\n",
       "      <td>selamat malam dusta</td>\n",
       "    </tr>\n",
       "  </tbody>\n",
       "</table>\n",
       "</div>"
      ],
      "text/plain": [
       "  Sentiment                                         Text Tweet  \\\n",
       "0  positive  <USER_MENTION> #BOIKOT_<PROVIDER_NAME> Gunakan...   \n",
       "1  positive  Saktinya balik lagi, alhamdulillah :v <PROVIDE...   \n",
       "2  negative  Selamat pagi <PROVIDER_NAME>  bisa bantu kenap...   \n",
       "3  negative  Dear <PROVIDER_NAME> akhir2 ini jaringan data ...   \n",
       "4  negative            Selamat malam PENDUSTA <PROVIDER_NAME>    \n",
       "\n",
       "                                         Clean_Tweet  \n",
       "0                              #boikot produk bangsa  \n",
       "1                        sakti alhamdulillah cengang  \n",
       "2  selamat pagi bisa bantu kamar sinyal 4g hilang...  \n",
       "3                         dear jaring data lambat h+  \n",
       "4                                selamat malam dusta  "
      ]
     },
     "execution_count": 4,
     "metadata": {},
     "output_type": "execute_result"
    }
   ],
   "source": [
    "# Perform text preprocessing on tweet data using the Tweet module\n",
    "tweets = []\n",
    "for _, row in tweets_df.iterrows():\n",
    "    tweets.append(\n",
    "        Tweet(original_tweet=row['Text Tweet'], sentiment=row['Sentiment'])\n",
    "    )\n",
    "\n",
    "tweets_df['Clean_Tweet'] = [tweet.clean_tweet for tweet in tweets]\n",
    "tweets_df.head(5)"
   ]
  },
  {
   "cell_type": "code",
   "execution_count": 5,
   "id": "774a4edb-819e-4549-80c8-c41fe067f571",
   "metadata": {},
   "outputs": [
    {
     "data": {
      "text/html": [
       "<div>\n",
       "<style scoped>\n",
       "    .dataframe tbody tr th:only-of-type {\n",
       "        vertical-align: middle;\n",
       "    }\n",
       "\n",
       "    .dataframe tbody tr th {\n",
       "        vertical-align: top;\n",
       "    }\n",
       "\n",
       "    .dataframe thead th {\n",
       "        text-align: right;\n",
       "    }\n",
       "</style>\n",
       "<table border=\"1\" class=\"dataframe\">\n",
       "  <thead>\n",
       "    <tr style=\"text-align: right;\">\n",
       "      <th></th>\n",
       "      <th>Sentiment</th>\n",
       "      <th>Text Tweet</th>\n",
       "      <th>Clean_Tweet</th>\n",
       "    </tr>\n",
       "  </thead>\n",
       "  <tbody>\n",
       "    <tr>\n",
       "      <th>0</th>\n",
       "      <td>1</td>\n",
       "      <td>&lt;USER_MENTION&gt; #BOIKOT_&lt;PROVIDER_NAME&gt; Gunakan...</td>\n",
       "      <td>#boikot produk bangsa</td>\n",
       "    </tr>\n",
       "    <tr>\n",
       "      <th>1</th>\n",
       "      <td>1</td>\n",
       "      <td>Saktinya balik lagi, alhamdulillah :v &lt;PROVIDE...</td>\n",
       "      <td>sakti alhamdulillah cengang</td>\n",
       "    </tr>\n",
       "    <tr>\n",
       "      <th>2</th>\n",
       "      <td>0</td>\n",
       "      <td>Selamat pagi &lt;PROVIDER_NAME&gt;  bisa bantu kenap...</td>\n",
       "      <td>selamat pagi bisa bantu kamar sinyal 4g hilang...</td>\n",
       "    </tr>\n",
       "    <tr>\n",
       "      <th>3</th>\n",
       "      <td>0</td>\n",
       "      <td>Dear &lt;PROVIDER_NAME&gt; akhir2 ini jaringan data ...</td>\n",
       "      <td>dear jaring data lambat h+</td>\n",
       "    </tr>\n",
       "    <tr>\n",
       "      <th>4</th>\n",
       "      <td>0</td>\n",
       "      <td>Selamat malam PENDUSTA &lt;PROVIDER_NAME&gt;</td>\n",
       "      <td>selamat malam dusta</td>\n",
       "    </tr>\n",
       "  </tbody>\n",
       "</table>\n",
       "</div>"
      ],
      "text/plain": [
       "   Sentiment                                         Text Tweet  \\\n",
       "0          1  <USER_MENTION> #BOIKOT_<PROVIDER_NAME> Gunakan...   \n",
       "1          1  Saktinya balik lagi, alhamdulillah :v <PROVIDE...   \n",
       "2          0  Selamat pagi <PROVIDER_NAME>  bisa bantu kenap...   \n",
       "3          0  Dear <PROVIDER_NAME> akhir2 ini jaringan data ...   \n",
       "4          0            Selamat malam PENDUSTA <PROVIDER_NAME>    \n",
       "\n",
       "                                         Clean_Tweet  \n",
       "0                              #boikot produk bangsa  \n",
       "1                        sakti alhamdulillah cengang  \n",
       "2  selamat pagi bisa bantu kamar sinyal 4g hilang...  \n",
       "3                         dear jaring data lambat h+  \n",
       "4                                selamat malam dusta  "
      ]
     },
     "execution_count": 5,
     "metadata": {},
     "output_type": "execute_result"
    }
   ],
   "source": [
    "# Label encoding\n",
    "labels = tweets_df['Sentiment']\n",
    "label_encoder = preprocessing.LabelEncoder()\n",
    "label_encoder = label_encoder.fit(labels)\n",
    "\n",
    "tweets_df['Sentiment'] = label_encoder.transform(labels)\n",
    "\n",
    "# Save label encoder for later use\n",
    "dump(label_encoder, label_encoder_path)\n",
    "\n",
    "tweets_df.head(5)"
   ]
  },
  {
   "cell_type": "markdown",
   "id": "8ebed431-65c4-4f88-b9af-bccf1da8c370",
   "metadata": {},
   "source": [
    "# Sentiment Analysis Modeling"
   ]
  },
  {
   "cell_type": "code",
   "execution_count": 6,
   "id": "337c2f54-8fc7-47fb-9475-0d856881f802",
   "metadata": {},
   "outputs": [],
   "source": [
    "random_seed = 42"
   ]
  },
  {
   "cell_type": "markdown",
   "id": "d04afe81-1330-42bc-89d0-7f8a340303d6",
   "metadata": {},
   "source": [
    "## Vectorization"
   ]
  },
  {
   "cell_type": "code",
   "execution_count": 7,
   "id": "745095cf-3f4c-4d06-99e5-9e963f331b51",
   "metadata": {},
   "outputs": [
    {
     "name": "stdout",
     "output_type": "stream",
     "text": [
      "Data: 298 | Columns: 686\n",
      "Label: 298\n"
     ]
    }
   ],
   "source": [
    "# Convert dataset to vector (Vectorization)\n",
    "vectorizer = TfidfVectorizer()\n",
    "vectorizer = vectorizer.fit(tweets_df['Clean_Tweet'])\n",
    "\n",
    "X = vectorizer.transform(tweets_df['Clean_Tweet'])\n",
    "y = tweets_df['Sentiment']\n",
    "\n",
    "# Save vectorizer for later use\n",
    "dump(vectorizer, vectorizer_path)\n",
    "\n",
    "print(f\"Data: {X.shape[0]} | Columns: {X.shape[1]}\")\n",
    "print(f\"Label: {len(y)}\")"
   ]
  },
  {
   "cell_type": "markdown",
   "id": "eb6722ee-a628-45c5-a0f1-ed4ff8be3bae",
   "metadata": {},
   "source": [
    "## Train/Test Split"
   ]
  },
  {
   "cell_type": "code",
   "execution_count": 8,
   "id": "a24432eb-0f55-493e-a57c-09548a96856e",
   "metadata": {},
   "outputs": [
    {
     "name": "stdout",
     "output_type": "stream",
     "text": [
      "Train data: 208 | label 208\n",
      "Test data: 90 | label 90\n"
     ]
    }
   ],
   "source": [
    "# Split dataset to training and test set\n",
    "X_train, X_test, y_train, y_test = train_test_split(X, y, stratify=y, test_size=0.3, random_state=random_seed)\n",
    "\n",
    "print(f\"Train data: {X_train.shape[0]} | label {len(y_train)}\")\n",
    "print(f\"Test data: {X_test.shape[0]} | label {len(y_test)}\")"
   ]
  },
  {
   "cell_type": "code",
   "execution_count": 9,
   "id": "5bf195c4-f2c2-4a0a-b5f0-52d507707650",
   "metadata": {},
   "outputs": [],
   "source": [
    "# Convert sparse matrices to DataFrames with feature names (needed by LGBM)\n",
    "feature_names = vectorizer.get_feature_names_out()\n",
    "X_train_df = pd.DataFrame(X_train.toarray(), columns=feature_names)\n",
    "X_test_df = pd.DataFrame(X_test.toarray(), columns=feature_names)"
   ]
  },
  {
   "cell_type": "markdown",
   "id": "ced1e0cb-3e4c-4f63-a5c4-f5234a86f716",
   "metadata": {},
   "source": [
    "## Modeling with Various Models"
   ]
  },
  {
   "cell_type": "code",
   "execution_count": 10,
   "id": "a877b381-dbfa-4bd5-a1e8-0efb3b9e36e2",
   "metadata": {},
   "outputs": [
    {
     "name": "stdout",
     "output_type": "stream",
     "text": [
      "Models used: 10\n",
      "\n",
      "['XGB', 'LGBM', 'CatBoost', 'LinearSVC', 'LogReg', 'Ridge', 'RandomForest', 'ExtraTrees', 'MultinomialNB', 'ComplementNB']\n"
     ]
    }
   ],
   "source": [
    "# Define models and its paramaeters\n",
    "models = {\n",
    "    'XGB': (\n",
    "        XGBClassifier(eval_metric='logloss', random_state=random_seed),\n",
    "        {\n",
    "            'n_estimators': [100, 200],\n",
    "            'learning_rate': [0.05, 0.1],\n",
    "            'max_depth': [4, 6],\n",
    "            'subsample': [0.7, 1.0]\n",
    "        }\n",
    "    ),\n",
    "    'LGBM': (\n",
    "        LGBMClassifier(random_state=random_seed),\n",
    "        {\n",
    "            'n_estimators': [100, 200],\n",
    "            'learning_rate': [0.05, 0.1],\n",
    "            'num_leaves': [20, 31, 50],\n",
    "            'max_depth': [-1, 5, 10],\n",
    "            'min_child_samples': [1, 5, 10],\n",
    "            'min_gain_to_split': [0.0, 0.01],\n",
    "        }\n",
    "    ),\n",
    "    'CatBoost': (\n",
    "        CatBoostClassifier(verbose=0, random_seed=random_seed),\n",
    "        {\n",
    "            'iterations': [100, 200],\n",
    "            'learning_rate': [0.03, 0.1],\n",
    "            'depth': [4, 6, 8]\n",
    "        }\n",
    "    ),\n",
    "    'LinearSVC': (\n",
    "        LinearSVC(random_state=random_seed),\n",
    "        {\n",
    "            'C': [0.1, 1, 10],\n",
    "            'max_iter': [1000, 2000]\n",
    "        }\n",
    "    ),\n",
    "    'LogReg': (\n",
    "        LogisticRegression(solver='liblinear', random_state=random_seed),\n",
    "        {\n",
    "            'C': [0.1, 1, 10],\n",
    "            'penalty': ['l1', 'l2']\n",
    "        }\n",
    "    ),\n",
    "    'Ridge': (\n",
    "        RidgeClassifier(random_state=random_seed),\n",
    "        {\n",
    "            'alpha': [0.5, 1.0, 2.0],\n",
    "            'tol': [1e-3, 1e-4]\n",
    "        }\n",
    "    ),\n",
    "    'RandomForest': (\n",
    "        RandomForestClassifier(random_state=random_seed),\n",
    "        {\n",
    "            'n_estimators': [100, 200],\n",
    "            'max_depth': [None, 10, 20],\n",
    "            'min_samples_split': [2, 5]\n",
    "        }\n",
    "    ),\n",
    "    'ExtraTrees': (\n",
    "        ExtraTreesClassifier(random_state=random_seed),\n",
    "        {\n",
    "            'n_estimators': [100, 200],\n",
    "            'max_depth': [None, 10, 20],\n",
    "            'min_samples_split': [2, 5]\n",
    "        }\n",
    "    ),\n",
    "    'MultinomialNB': (\n",
    "        MultinomialNB(),\n",
    "        {\n",
    "            'alpha': [0.5, 1.0]\n",
    "        }\n",
    "    ),\n",
    "    'ComplementNB': (\n",
    "        ComplementNB(),\n",
    "        {\n",
    "            'alpha': [0.5, 1.0],\n",
    "            'norm': [True, False]\n",
    "        }\n",
    "    ),\n",
    "}\n",
    "\n",
    "print(f\"Models used: {len(list(models.keys()))}\\n\\n{list(models.keys())}\")"
   ]
  },
  {
   "cell_type": "code",
   "execution_count": 11,
   "id": "0c2bff7a-e3f1-41d2-b29c-30ae837a553a",
   "metadata": {},
   "outputs": [
    {
     "name": "stdout",
     "output_type": "stream",
     "text": [
      "Training XGB model ...\n",
      "              precision    recall  f1-score   support\n",
      "\n",
      "           0       0.85      0.69      0.76        48\n",
      "           1       0.71      0.86      0.77        42\n",
      "\n",
      "    accuracy                           0.77        90\n",
      "   macro avg       0.78      0.77      0.77        90\n",
      "weighted avg       0.78      0.77      0.77        90\n",
      "\n",
      "\n",
      "Training LGBM model ...\n",
      "[LightGBM] [Warning] min_gain_to_split is set=0.0, min_split_gain=0.0 will be ignored. Current value: min_gain_to_split=0.0\n",
      "[LightGBM] [Warning] min_gain_to_split is set=0.0, min_split_gain=0.0 will be ignored. Current value: min_gain_to_split=0.0\n",
      "[LightGBM] [Info] Number of positive: 96, number of negative: 112\n",
      "[LightGBM] [Info] Auto-choosing row-wise multi-threading, the overhead of testing was 0.000215 seconds.\n",
      "You can set `force_row_wise=true` to remove the overhead.\n",
      "And if memory is not enough, you can set `force_col_wise=true`.\n",
      "[LightGBM] [Info] Total Bins 224\n",
      "[LightGBM] [Info] Number of data points in the train set: 208, number of used features: 48\n",
      "[LightGBM] [Info] [binary:BoostFromScore]: pavg=0.461538 -> initscore=-0.154151\n",
      "[LightGBM] [Info] Start training from score -0.154151\n",
      "[LightGBM] [Warning] No further splits with positive gain, best gain: -inf\n",
      "[LightGBM] [Warning] No further splits with positive gain, best gain: -inf\n",
      "[LightGBM] [Warning] No further splits with positive gain, best gain: -inf\n",
      "[LightGBM] [Warning] No further splits with positive gain, best gain: -inf\n",
      "[LightGBM] [Warning] No further splits with positive gain, best gain: -inf\n",
      "[LightGBM] [Warning] No further splits with positive gain, best gain: -inf\n",
      "[LightGBM] [Warning] min_gain_to_split is set=0.0, min_split_gain=0.0 will be ignored. Current value: min_gain_to_split=0.0\n",
      "              precision    recall  f1-score   support\n",
      "\n",
      "           0       0.90      0.75      0.82        48\n",
      "           1       0.76      0.90      0.83        42\n",
      "\n",
      "    accuracy                           0.82        90\n",
      "   macro avg       0.83      0.83      0.82        90\n",
      "weighted avg       0.83      0.82      0.82        90\n",
      "\n",
      "\n",
      "Training CatBoost model ...\n",
      "              precision    recall  f1-score   support\n",
      "\n",
      "           0       0.81      0.90      0.85        48\n",
      "           1       0.86      0.76      0.81        42\n",
      "\n",
      "    accuracy                           0.83        90\n",
      "   macro avg       0.84      0.83      0.83        90\n",
      "weighted avg       0.84      0.83      0.83        90\n",
      "\n",
      "\n",
      "Training LinearSVC model ...\n",
      "              precision    recall  f1-score   support\n",
      "\n",
      "           0       0.84      0.88      0.86        48\n",
      "           1       0.85      0.81      0.83        42\n",
      "\n",
      "    accuracy                           0.84        90\n",
      "   macro avg       0.84      0.84      0.84        90\n",
      "weighted avg       0.84      0.84      0.84        90\n",
      "\n",
      "\n",
      "Training LogReg model ...\n",
      "              precision    recall  f1-score   support\n",
      "\n",
      "           0       0.82      0.88      0.85        48\n",
      "           1       0.85      0.79      0.81        42\n",
      "\n",
      "    accuracy                           0.83        90\n",
      "   macro avg       0.83      0.83      0.83        90\n",
      "weighted avg       0.83      0.83      0.83        90\n",
      "\n",
      "\n",
      "Training Ridge model ...\n",
      "              precision    recall  f1-score   support\n",
      "\n",
      "           0       0.84      0.88      0.86        48\n",
      "           1       0.85      0.81      0.83        42\n",
      "\n",
      "    accuracy                           0.84        90\n",
      "   macro avg       0.84      0.84      0.84        90\n",
      "weighted avg       0.84      0.84      0.84        90\n",
      "\n",
      "\n",
      "Training RandomForest model ...\n",
      "              precision    recall  f1-score   support\n",
      "\n",
      "           0       0.79      0.92      0.85        48\n",
      "           1       0.88      0.71      0.79        42\n",
      "\n",
      "    accuracy                           0.82        90\n",
      "   macro avg       0.83      0.82      0.82        90\n",
      "weighted avg       0.83      0.82      0.82        90\n",
      "\n",
      "\n",
      "Training ExtraTrees model ...\n",
      "              precision    recall  f1-score   support\n",
      "\n",
      "           0       0.77      0.92      0.84        48\n",
      "           1       0.88      0.69      0.77        42\n",
      "\n",
      "    accuracy                           0.81        90\n",
      "   macro avg       0.83      0.80      0.81        90\n",
      "weighted avg       0.82      0.81      0.81        90\n",
      "\n",
      "\n",
      "Training MultinomialNB model ...\n",
      "              precision    recall  f1-score   support\n",
      "\n",
      "           0       0.81      0.92      0.86        48\n",
      "           1       0.89      0.76      0.82        42\n",
      "\n",
      "    accuracy                           0.84        90\n",
      "   macro avg       0.85      0.84      0.84        90\n",
      "weighted avg       0.85      0.84      0.84        90\n",
      "\n",
      "\n",
      "Training ComplementNB model ...\n",
      "              precision    recall  f1-score   support\n",
      "\n",
      "           0       0.82      0.85      0.84        48\n",
      "           1       0.82      0.79      0.80        42\n",
      "\n",
      "    accuracy                           0.82        90\n",
      "   macro avg       0.82      0.82      0.82        90\n",
      "weighted avg       0.82      0.82      0.82        90\n",
      "\n",
      "\n",
      "CPU times: total: 16.9 s\n",
      "Wall time: 1min 16s\n"
     ]
    }
   ],
   "source": [
    "%%time\n",
    "\n",
    "best_models = {}\n",
    "\n",
    "cross_validation = 5\n",
    "for model_name, (model, param_grid) in models.items():\n",
    "    print(f\"Training {model_name} model ...\")\n",
    "    \n",
    "    # Training models using GridSearchCV\n",
    "    grid = GridSearchCV(\n",
    "        estimator=model,\n",
    "        param_grid=param_grid,\n",
    "        scoring=\"f1_weighted\",\n",
    "        cv=cross_validation,\n",
    "        n_jobs=-1,\n",
    "        verbose=0,\n",
    "    )\n",
    "    grid.fit(X_train_df, y_train)\n",
    "\n",
    "    # Get the best model\n",
    "    best_model = grid.best_estimator_\n",
    "    best_param = grid.best_params_\n",
    "    best_score = grid.best_score_\n",
    "    \n",
    "    # Evaluate best model\n",
    "    y_pred = best_model.predict(X_test_df)\n",
    "\n",
    "    accuracy = accuracy_score(y_test, y_pred)\n",
    "    precision = precision_score(y_test, y_pred, average=\"weighted\")\n",
    "    recall = recall_score(y_test, y_pred, average=\"weighted\")\n",
    "    report = classification_report(y_test, y_pred)\n",
    "    \n",
    "    print(f\"{report}\\n\")\n",
    "\n",
    "    # Save the best model\n",
    "    best_models[model_name] = {\n",
    "        \"model\": best_model,\n",
    "        \"parameters\": best_param,\n",
    "        \"accuracy\": accuracy,\n",
    "        \"precision\": precision,\n",
    "        \"recall\": recall,\n",
    "        \"f1_score\": best_score,\n",
    "        \"report\": report\n",
    "    }"
   ]
  },
  {
   "cell_type": "markdown",
   "id": "81920e8e-56fd-4692-819a-e5eb645e8cc9",
   "metadata": {},
   "source": [
    "# Get the Best Model"
   ]
  },
  {
   "cell_type": "markdown",
   "id": "a9bc5f5d-a8db-4f15-bc1a-95612ca1652c",
   "metadata": {},
   "source": [
    "## Using Specific Metric"
   ]
  },
  {
   "cell_type": "code",
   "execution_count": 12,
   "id": "08039c8c-8e88-4da6-ac74-cd68515f6f40",
   "metadata": {},
   "outputs": [
    {
     "name": "stdout",
     "output_type": "stream",
     "text": [
      "model: ComplementNB\n",
      "param: {'alpha': 1.0, 'norm': False}\n",
      "f1_score: 0.860\n"
     ]
    }
   ],
   "source": [
    "def get_best_model(models: dict = best_models, metric: Literal[\"accuracy\", \"precision\", \"recall\", \"f1_score\"] = \"accuracy\"):\n",
    "    \"\"\"Get and save final model\"\"\"\n",
    "    # Get the best of the best model (final model) based on specific metric\n",
    "    try:\n",
    "        best_model_name = max(models.keys(), key=lambda k: models[k][metric])\n",
    "    except Exception as e:\n",
    "        raise Exception(\"Metric unknown.\")\n",
    "\n",
    "    # Save the final model\n",
    "    best_model = models[best_model_name]\n",
    "    print(f\"model: {best_model_name}\")\n",
    "    print(f\"param: {best_model['parameters']}\")\n",
    "    print(f\"{metric}: {best_model[metric]:,.03f}\")\n",
    "    \n",
    "    return best_model[\"model\"]\n",
    "    \n",
    "final_model = get_best_model(metric=\"f1_score\")"
   ]
  },
  {
   "cell_type": "markdown",
   "id": "35805715-7cc4-4b38-bbea-8a32a107e913",
   "metadata": {},
   "source": [
    "## Using Calculation"
   ]
  },
  {
   "cell_type": "code",
   "execution_count": 13,
   "id": "26948b5e-4f9d-40d1-8a29-847f46db7bdb",
   "metadata": {},
   "outputs": [
    {
     "name": "stdout",
     "output_type": "stream",
     "text": [
      "model: MultinomialNB\n",
      "param: {'alpha': 0.5}\n",
      "score: 0.845\n"
     ]
    }
   ],
   "source": [
    "# Get the best model based on metrics calculation\n",
    "def calculate_best_model(models: dict = best_models):\n",
    "    \"\"\"Get and save final model based on weights calculation\"\"\"\n",
    "    scores = {}\n",
    "\n",
    "    # Custom weights\n",
    "    weights = {\n",
    "        'accuracy': 0.25,\n",
    "        'precision': 0.25, \n",
    "        'recall': 0.25,\n",
    "        'f1_score': 0.25\n",
    "    }\n",
    "\n",
    "    # Calculate overall score based on custom weights and get the best of the best model (final model)\n",
    "    for model_name in models:\n",
    "        score = 0\n",
    "        for metric in weights:\n",
    "            score += weights[metric] * models[model_name][metric]\n",
    "        scores[model_name] = score\n",
    "    best_model_name = max(scores, key=scores.get)\n",
    "\n",
    "    # Save the final model\n",
    "    best_model = models[best_model_name]\n",
    "    print(f\"model: {best_model_name}\")\n",
    "    print(f\"param: {best_model['parameters']}\")\n",
    "    print(f\"score: {scores[best_model_name]:,.03f}\")\n",
    "\n",
    "    return best_model['model']\n",
    "    \n",
    "final_model = calculate_best_model(best_models)"
   ]
  },
  {
   "cell_type": "code",
   "execution_count": 14,
   "id": "d8724e4b-79f9-4aea-acaa-1f60b2e19495",
   "metadata": {},
   "outputs": [
    {
     "data": {
      "text/plain": [
       "['D:\\\\Learn\\\\LLM\\\\llm_engineering\\\\my_projects\\\\nawatech_test\\\\case1\\\\models\\\\final_model.joblib']"
      ]
     },
     "execution_count": 14,
     "metadata": {},
     "output_type": "execute_result"
    }
   ],
   "source": [
    "# Save the final model for later use\n",
    "dump(final_model, final_model_path)"
   ]
  },
  {
   "cell_type": "markdown",
   "id": "25607dc4-0679-4f1a-a2f5-96e77a9e4af7",
   "metadata": {},
   "source": [
    "# Test Model (Prediction)"
   ]
  },
  {
   "cell_type": "code",
   "execution_count": 15,
   "id": "9300dc58-fced-4118-80ae-a45876d78f00",
   "metadata": {},
   "outputs": [
    {
     "name": "stdout",
     "output_type": "stream",
     "text": [
      "Tweet\t : buruan pakai bisa dapat banyak poin lho\n",
      "Sentiment: positive\n"
     ]
    }
   ],
   "source": [
    "text = \"buruan pakai bisa dapat banyak poin lho\"\n",
    "\n",
    "# Text preprocessing\n",
    "text_clean = Tweet(original_tweet=text, sentiment=\"\")\n",
    "\n",
    "# Text to vector/matrix (vectorization)\n",
    "text_vec = vectorizer.transform([text_clean.clean_tweet])\n",
    "\n",
    "# Sparse matrix to DataFrame (needed by LGBM)\n",
    "feature_names = vectorizer.get_feature_names_out()\n",
    "text_df = pd.DataFrame(text_vec.toarray(), columns=feature_names)\n",
    "\n",
    "# Prediction\n",
    "prediction = final_model.predict(text_df)\n",
    "\n",
    "# Inverse label encoding\n",
    "prediction = label_encoder.inverse_transform(prediction)\n",
    "\n",
    "print(f\"Tweet\\t : {text}\")\n",
    "print(f\"Sentiment: {prediction[0]}\")"
   ]
  },
  {
   "cell_type": "code",
   "execution_count": null,
   "id": "5b3b58f1-4a5f-4a91-b7f3-2410abc93729",
   "metadata": {},
   "outputs": [],
   "source": []
  }
 ],
 "metadata": {
  "kernelspec": {
   "display_name": "hugface",
   "language": "python",
   "name": "hugface"
  },
  "language_info": {
   "codemirror_mode": {
    "name": "ipython",
    "version": 3
   },
   "file_extension": ".py",
   "mimetype": "text/x-python",
   "name": "python",
   "nbconvert_exporter": "python",
   "pygments_lexer": "ipython3",
   "version": "3.11.11"
  }
 },
 "nbformat": 4,
 "nbformat_minor": 5
}
